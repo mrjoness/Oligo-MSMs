{
 "cells": [
  {
   "cell_type": "code",
   "execution_count": 2,
   "metadata": {},
   "outputs": [],
   "source": [
    "import sys, pickle\n",
    "import sklearn.preprocessing as pre, scipy, numpy as np, matplotlib.pyplot as plt, glob, os, pyemma, subprocess\n",
    "import pandas as pd, seaborn as sns, argparse\n",
    "import ipywidgets \n",
    "\n",
    "#from temp_tf_load import *\n",
    "sys.path.append('../../hde')\n",
    "\n",
    "import warnings\n",
    "warnings.filterwarnings('ignore')\n",
    "from hde import HDE, analysis"
   ]
  },
  {
   "cell_type": "code",
   "execution_count": 5,
   "metadata": {},
   "outputs": [
    {
     "name": "stdout",
     "output_type": "stream",
     "text": [
      "(40, 250000, 100)\n",
      "(40, 250000, 2)\n"
     ]
    },
    {
     "data": {
      "application/vnd.jupyter.widget-view+json": {
       "model_id": "",
       "version_major": 2,
       "version_minor": 0
      },
      "text/plain": [
       "HBox(children=(HTML(value='calculate covariances'), FloatProgress(value=0.0, layout=Layout(flex='2'), max=40.0…"
      ]
     },
     "metadata": {},
     "output_type": "display_data"
    },
    {
     "data": {
      "application/vnd.jupyter.widget-view+json": {
       "model_id": "",
       "version_major": 2,
       "version_minor": 0
      },
      "text/plain": [
       "HBox(children=(HTML(value='getting output of TICA'), FloatProgress(value=0.0, layout=Layout(flex='2'), max=40.…"
      ]
     },
     "metadata": {},
     "output_type": "display_data"
    },
    {
     "name": "stdout",
     "output_type": "stream",
     "text": [
      "(40, 250000, 2)\n"
     ]
    },
    {
     "data": {
      "application/vnd.jupyter.widget-view+json": {
       "model_id": "",
       "version_major": 2,
       "version_minor": 0
      },
      "text/plain": [
       "HBox(children=(HTML(value='initialize kmeans++ centers'), FloatProgress(value=0.0, layout=Layout(flex='2'), ma…"
      ]
     },
     "metadata": {},
     "output_type": "display_data"
    },
    {
     "data": {
      "application/vnd.jupyter.widget-view+json": {
       "model_id": "",
       "version_major": 2,
       "version_minor": 0
      },
      "text/plain": [
       "HBox(children=(HTML(value='kmeans iterations'), FloatProgress(value=0.0, layout=Layout(flex='2'), max=50.0), H…"
      ]
     },
     "metadata": {},
     "output_type": "display_data"
    },
    {
     "data": {
      "application/vnd.jupyter.widget-view+json": {
       "model_id": "",
       "version_major": 2,
       "version_minor": 0
      },
      "text/plain": [
       "HBox(children=(HTML(value='initialize kmeans++ centers'), FloatProgress(value=0.0, layout=Layout(flex='2'), ma…"
      ]
     },
     "metadata": {},
     "output_type": "display_data"
    },
    {
     "data": {
      "application/vnd.jupyter.widget-view+json": {
       "model_id": "",
       "version_major": 2,
       "version_minor": 0
      },
      "text/plain": [
       "HBox(children=(HTML(value='kmeans iterations'), FloatProgress(value=0.0, layout=Layout(flex='2'), max=50.0), H…"
      ]
     },
     "metadata": {},
     "output_type": "display_data"
    },
    {
     "data": {
      "application/vnd.jupyter.widget-view+json": {
       "model_id": "",
       "version_major": 2,
       "version_minor": 0
      },
      "text/plain": [
       "HBox(children=(HTML(value='getting output of KmeansClustering'), FloatProgress(value=0.0, layout=Layout(flex='…"
      ]
     },
     "metadata": {},
     "output_type": "display_data"
    },
    {
     "data": {
      "application/vnd.jupyter.widget-view+json": {
       "model_id": "",
       "version_major": 2,
       "version_minor": 0
      },
      "text/plain": [
       "HBox(children=(HTML(value='getting output of KmeansClustering'), FloatProgress(value=0.0, layout=Layout(flex='…"
      ]
     },
     "metadata": {},
     "output_type": "display_data"
    },
    {
     "data": {
      "application/vnd.jupyter.widget-view+json": {
       "model_id": "",
       "version_major": 2,
       "version_minor": 0
      },
      "text/plain": [
       "HBox(children=(HTML(value='pyemma.msm.estimators.bayesian_msm.BayesianMSM[43]: compute stat. inefficiencies'),…"
      ]
     },
     "metadata": {},
     "output_type": "display_data"
    },
    {
     "data": {
      "application/vnd.jupyter.widget-view+json": {
       "model_id": "",
       "version_major": 2,
       "version_minor": 0
      },
      "text/plain": [
       "HBox(children=(HTML(value='pyemma.msm.estimators.bayesian_msm.BayesianMSM[43]: Sampling MSMs'), FloatProgress(…"
      ]
     },
     "metadata": {},
     "output_type": "display_data"
    },
    {
     "data": {
      "application/vnd.jupyter.widget-view+json": {
       "model_id": "",
       "version_major": 2,
       "version_minor": 0
      },
      "text/plain": [
       "HBox(children=(HTML(value='pyemma.msm.estimators.bayesian_msm.BayesianMSM[44]: compute stat. inefficiencies'),…"
      ]
     },
     "metadata": {},
     "output_type": "display_data"
    },
    {
     "data": {
      "application/vnd.jupyter.widget-view+json": {
       "model_id": "",
       "version_major": 2,
       "version_minor": 0
      },
      "text/plain": [
       "HBox(children=(HTML(value='pyemma.msm.estimators.bayesian_msm.BayesianMSM[44]: Sampling MSMs'), FloatProgress(…"
      ]
     },
     "metadata": {},
     "output_type": "display_data"
    }
   ],
   "source": [
    "# get temp and n slow modes determined by cross-val\n",
    "srv_params = {'AT-all': [309, 5, 6],\n",
    "              'GC-end': [317, 5, 5],\n",
    "              'GC-core': [324, 4, 4],\n",
    "              'GC-mix': [324, 2, 3]}\n",
    "\n",
    "reduced = False\n",
    "\n",
    "for seq in ['GC-mix']: #['AT-all', 'GC-end', 'GC-core', 'GC-mix']:\n",
    "\n",
    "    [temp, hde_nsm, nMacroStates] = srv_params[seq]\n",
    "\n",
    "    # lag times\n",
    "    lag = 12\n",
    "    srv_lag = 12\n",
    "    srv_ep = 20\n",
    "\n",
    "    # number of cluster centers and clustering stride\n",
    "    nClusterCentres = 200\n",
    "    stride = 1000\n",
    "\n",
    "\n",
    "    # load traj data and hde path\n",
    "    load_path = '/home/mikejones/scratch-midway2/srv/implicit/'\n",
    "    \n",
    "    if reduced:\n",
    "        npy_equ =   f'dna_data/{seq}_dist_reduced_{temp}K_40-250000-55.npy'\n",
    "        data = 1 / np.load(load_path+npy_equ)\n",
    "    else:\n",
    "        npy_equ =   f'dna_data/{seq}_dist_{temp}K_40-250000-190.npy'\n",
    "        data = 1 / np.load(load_path+npy_equ)[:, :, :100]\n",
    "    \n",
    "    hde_name =  f\"srv_out/sm-{hde_nsm}_k-0_lag-{srv_lag}_ep-{srv_ep}_{seq}{npy_equ.split(seq)[-1].replace('npy', 'pkl')}\"\n",
    "\n",
    "    # create a directory to aggregate msm data\n",
    "    save_dir = f\"MSMs/{npy_equ.split('/')[-1].replace('.npy', '')}\"\n",
    "    save_dir += f'_micro-{nClusterCentres}_macro-{nMacroStates}_lag-{lag}_srvlag-{srv_lag}/'\n",
    "    subprocess.run(['mkdir', save_dir])\n",
    "    subprocess.run(['cp', hde_name, save_dir+'hde.pkl'])\n",
    "\n",
    "    # scales all features to the range 0 and 1\n",
    "    scaler = pre.MinMaxScaler(feature_range=(0, 1))\n",
    "    scaler.fit(np.concatenate(data))\n",
    "    data_s = [scaler.transform(item) for item in data]\n",
    "    print(np.shape(data_s))\n",
    "\n",
    "    # transform coordinates based on loaded srv\n",
    "    hde = pickle.load(open(load_path+hde_name, 'rb'))\n",
    "    hdeOutput = [hde.transform(x) for x in data_s] \n",
    "    print(np.shape(hdeOutput))\n",
    "\n",
    "    # compare with tica, use same dimensions and lag as srv for consistency\n",
    "    tica = pyemma.coordinates.tica([traj for traj in data_s], lag=srv_lag, dim=hde_nsm)\n",
    "    ticaOutput = tica.get_output()\n",
    "    print(np.shape(ticaOutput))\n",
    "    \n",
    "    #save coord tranformations\n",
    "    hde_coords = save_dir+'hde_coords.pkl'\n",
    "    with open(hde_coords , 'wb') as f:\n",
    "        pickle.dump(hdeOutput, f)\n",
    "    f.close()\n",
    "\n",
    "    tica_coords = save_dir+'tica_coords.pkl'\n",
    "    with open(tica_coords, 'wb') as f:\n",
    "        pickle.dump(ticaOutput, f)\n",
    "    f.close()\n",
    "    \n",
    "    \n",
    "    # cluster based on srv and tica dynamical representations\n",
    "    cluster_hde = pyemma.coordinates.cluster_kmeans(hdeOutput, \n",
    "                        stride=stride, k=nClusterCentres, max_iter=50)\n",
    "\n",
    "    cluster_tica = pyemma.coordinates.cluster_kmeans(ticaOutput, \n",
    "                        stride=stride, k=nClusterCentres, max_iter=50)\n",
    "\n",
    "    # extract discrete trajectories along microstates found above\n",
    "    dtraj_tica = cluster_tica.dtrajs\n",
    "    dtraj_hde = cluster_hde.dtrajs\n",
    "\n",
    "    #save cluster data\n",
    "    cluster_hde_name = save_dir+f'hde_cluster.pkl'\n",
    "    with open(cluster_hde_name, 'wb') as f:\n",
    "        pickle.dump(cluster_hde, f)\n",
    "    f.close()\n",
    "\n",
    "    cluster_tica_name = save_dir+f'tica_cluster.pkl'\n",
    "    with open(cluster_tica_name, 'wb') as f:\n",
    "        pickle.dump(cluster_tica, f)\n",
    "    f.close()\n",
    "\n",
    "    #save cluster data\n",
    "    dtraj_hde_name = save_dir+f'dtraj_hde.pkl'\n",
    "    with open(dtraj_hde_name, 'wb') as f:\n",
    "        pickle.dump(dtraj_hde, f)\n",
    "    f.close()\n",
    "\n",
    "    dtraj_tica_name = save_dir+f'dtraj_tica.pkl'\n",
    "    with open(dtraj_tica_name, 'wb') as f:\n",
    "        pickle.dump(dtraj_tica, f)\n",
    "    f.close()\n",
    "    \n",
    "    msm_hde = pyemma.msm.bayesian_markov_model(dtraj_hde, lag)\n",
    "    msm_tica = pyemma.msm.bayesian_markov_model(dtraj_tica, lag)\n",
    "\n",
    "    # cluster each into nMacroStates macro clusters\n",
    "    pcca_hde = msm_hde.pcca(nMacroStates)\n",
    "    pcca_tica = msm_tica.pcca(nMacroStates)\n",
    "\n",
    "    # save hde msm\n",
    "    msm_hde_name = save_dir+f'msm_hde.pkl'\n",
    "    with open(msm_hde_name, 'wb') as f:\n",
    "        pickle.dump(msm_hde, f)\n",
    "    f.close()\n",
    "\n",
    "    # save tica msm\n",
    "    msm_tica_name = save_dir+f'msm_tica.pkl'\n",
    "    with open(msm_tica_name, 'wb') as f:\n",
    "        pickle.dump(msm_tica, f)\n",
    "    f.close()\n",
    "    "
   ]
  },
  {
   "cell_type": "code",
   "execution_count": null,
   "metadata": {},
   "outputs": [],
   "source": []
  }
 ],
 "metadata": {
  "kernelspec": {
   "display_name": "Python 3",
   "language": "python",
   "name": "python3"
  },
  "language_info": {
   "codemirror_mode": {
    "name": "ipython",
    "version": 3
   },
   "file_extension": ".py",
   "mimetype": "text/x-python",
   "name": "python",
   "nbconvert_exporter": "python",
   "pygments_lexer": "ipython3",
   "version": "3.7.3"
  }
 },
 "nbformat": 4,
 "nbformat_minor": 4
}
